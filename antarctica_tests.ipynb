{
 "cells": [
  {
   "cell_type": "markdown",
   "metadata": {},
   "source": [
    "# Evaluate models on Antarctica data"
   ]
  },
  {
   "cell_type": "markdown",
   "metadata": {},
   "source": [
    "## Load data and model"
   ]
  },
  {
   "cell_type": "code",
   "execution_count": 6,
   "metadata": {},
   "outputs": [
    {
     "name": "stdout",
     "output_type": "stream",
     "text": [
      "infrared data (8074861, 10)\n"
     ]
    },
    {
     "data": {
      "text/html": [
       "<div>\n",
       "<style scoped>\n",
       "    .dataframe tbody tr th:only-of-type {\n",
       "        vertical-align: middle;\n",
       "    }\n",
       "\n",
       "    .dataframe tbody tr th {\n",
       "        vertical-align: top;\n",
       "    }\n",
       "\n",
       "    .dataframe thead th {\n",
       "        text-align: right;\n",
       "    }\n",
       "</style>\n",
       "<table border=\"1\" class=\"dataframe\">\n",
       "  <thead>\n",
       "    <tr style=\"text-align: right;\">\n",
       "      <th></th>\n",
       "      <th>band_25</th>\n",
       "      <th>band_27</th>\n",
       "      <th>band_36</th>\n",
       "      <th>BTD85_11</th>\n",
       "      <th>BTD73_11</th>\n",
       "      <th>BT73</th>\n",
       "      <th>BTD12_11</th>\n",
       "      <th>BTD39_11</th>\n",
       "      <th>mLST_night</th>\n",
       "      <th>mSZA</th>\n",
       "    </tr>\n",
       "  </thead>\n",
       "  <tbody>\n",
       "    <tr>\n",
       "      <th>0</th>\n",
       "      <td>0.1214</td>\n",
       "      <td>1.0504</td>\n",
       "      <td>2.7859</td>\n",
       "      <td>0.965324</td>\n",
       "      <td>-6.144915</td>\n",
       "      <td>243.871436</td>\n",
       "      <td>-2.154739</td>\n",
       "      <td>8.206365</td>\n",
       "      <td>260.08</td>\n",
       "      <td>84.12</td>\n",
       "    </tr>\n",
       "    <tr>\n",
       "      <th>1</th>\n",
       "      <td>0.1226</td>\n",
       "      <td>1.0590</td>\n",
       "      <td>2.7970</td>\n",
       "      <td>0.353406</td>\n",
       "      <td>-6.414974</td>\n",
       "      <td>244.325338</td>\n",
       "      <td>-1.587471</td>\n",
       "      <td>9.360495</td>\n",
       "      <td>262.92</td>\n",
       "      <td>83.69</td>\n",
       "    </tr>\n",
       "    <tr>\n",
       "      <th>2</th>\n",
       "      <td>0.1183</td>\n",
       "      <td>1.0442</td>\n",
       "      <td>2.8210</td>\n",
       "      <td>-0.109341</td>\n",
       "      <td>-4.936209</td>\n",
       "      <td>243.828671</td>\n",
       "      <td>-0.259184</td>\n",
       "      <td>9.633748</td>\n",
       "      <td>258.94</td>\n",
       "      <td>83.65</td>\n",
       "    </tr>\n",
       "    <tr>\n",
       "      <th>3</th>\n",
       "      <td>0.1241</td>\n",
       "      <td>1.0712</td>\n",
       "      <td>2.7831</td>\n",
       "      <td>-0.209316</td>\n",
       "      <td>-5.970964</td>\n",
       "      <td>244.318576</td>\n",
       "      <td>-0.881033</td>\n",
       "      <td>9.190903</td>\n",
       "      <td>261.90</td>\n",
       "      <td>83.61</td>\n",
       "    </tr>\n",
       "    <tr>\n",
       "      <th>4</th>\n",
       "      <td>0.1181</td>\n",
       "      <td>1.0666</td>\n",
       "      <td>2.7955</td>\n",
       "      <td>-0.203965</td>\n",
       "      <td>-5.085836</td>\n",
       "      <td>244.130467</td>\n",
       "      <td>-0.401582</td>\n",
       "      <td>8.104397</td>\n",
       "      <td>257.88</td>\n",
       "      <td>83.57</td>\n",
       "    </tr>\n",
       "  </tbody>\n",
       "</table>\n",
       "</div>"
      ],
      "text/plain": [
       "   band_25  band_27  band_36  BTD85_11  BTD73_11        BT73  BTD12_11  \\\n",
       "0   0.1214   1.0504   2.7859  0.965324 -6.144915  243.871436 -2.154739   \n",
       "1   0.1226   1.0590   2.7970  0.353406 -6.414974  244.325338 -1.587471   \n",
       "2   0.1183   1.0442   2.8210 -0.109341 -4.936209  243.828671 -0.259184   \n",
       "3   0.1241   1.0712   2.7831 -0.209316 -5.970964  244.318576 -0.881033   \n",
       "4   0.1181   1.0666   2.7955 -0.203965 -5.085836  244.130467 -0.401582   \n",
       "\n",
       "   BTD39_11  mLST_night   mSZA  \n",
       "0  8.206365      260.08  84.12  \n",
       "1  9.360495      262.92  83.69  \n",
       "2  9.633748      258.94  83.65  \n",
       "3  9.190903      261.90  83.61  \n",
       "4  8.104397      257.88  83.57  "
      ]
     },
     "metadata": {},
     "output_type": "display_data"
    },
    {
     "name": "stdout",
     "output_type": "stream",
     "text": [
      "infrared labels (9217922,)\n"
     ]
    },
    {
     "data": {
      "text/plain": [
       "0    1\n",
       "1    1\n",
       "2    1\n",
       "3    1\n",
       "4    1\n",
       "Name: class, dtype: int64"
      ]
     },
     "metadata": {},
     "output_type": "display_data"
    },
    {
     "name": "stdout",
     "output_type": "stream",
     "text": [
      "RandomForestClassifier(ccp_alpha=0, max_depth=40, min_samples_leaf=2,\n",
      "                       n_estimators=500, n_jobs=-1, oob_score=True,\n",
      "                       random_state=26, verbose=1)\n"
     ]
    }
   ],
   "source": [
    "import pandas as pd\n",
    "from joblib import load\n",
    "import numpy as np\n",
    "\n",
    "def get_modis_classifications(data):\n",
    "    modis_classifications = np.where(data.mWater.values, 1, 0) +\\\n",
    "            np.where(data.mIce.values, 2, 0) +\\\n",
    "            np.where(data.mUndetermined.values, 3, 0)\n",
    "    return pd.Series(modis_classifications, index=data.index)\n",
    "\n",
    "anarctica_folder = './JASMIN_tests/Antarctica/merged_features/'\n",
    "\n",
    "model_type = \"infrared\"\n",
    "\n",
    "if model_type == 'infrared':\n",
    "    features = [\n",
    "        'band_25', 'band_27', 'band_36', 'BTD85_11', 'BTD73_11', 'BT73',\n",
    "       'BTD12_11', 'BTD39_11', 'mLST_night', 'mSZA'\n",
    "    ]\n",
    "\n",
    "    data = pd.read_csv(anarctica_folder + \"clean_infrared_features.csv\")\n",
    "    data = data[data.mLat < -60]\n",
    "    modis_classifications = get_modis_classifications(data)\n",
    "    data = data[features]\n",
    "    labels = pd.read_csv(anarctica_folder + \"clean_infrared_labels.csv\")['class']\n",
    "    RF = load('./2013_2017_DATA/trained_models/RF infrared (night-only)_run_57.joblib')\n",
    "elif model_type == 'optical':\n",
    "    features = [\n",
    "        'band_7', 'band_18', 'band_20', 'band_25', 'band_26', 'band_27',\n",
    "       'band_28', 'band_29', 'mSZA', 'mCloudTopPressure'\n",
    "    ]\n",
    "    \n",
    "    data = pd.read_csv(anarctica_folder + \"clean_optical_features.csv\")\n",
    "    data = data[data.mLat < -60]\n",
    "    modis_classifications = get_modis_classifications(data)\n",
    "    data = data[features]\n",
    "    labels = pd.read_csv(anarctica_folder + \"clean_optical_labels.csv\")['class']\n",
    "    RF = load('./2013_2017_DATA/trained_models/RF optical (day-only)_run_57.joblib')\n",
    "\n",
    "print(f\"{model_type} data\", data.shape)\n",
    "display(data.head())\n",
    "\n",
    "print(f\"{model_type} labels\", labels.shape)\n",
    "display(labels.head())\n",
    "\n",
    "print(RF)"
   ]
  },
  {
   "cell_type": "markdown",
   "metadata": {},
   "source": [
    "## Debug nans"
   ]
  },
  {
   "cell_type": "code",
   "execution_count": 7,
   "metadata": {},
   "outputs": [],
   "source": [
    "data.isna().sum()\n",
    "\n",
    "# remove the rows with nan values, there are very few of them\n",
    "data = data.dropna()\n",
    "\n",
    "# correct for the labels\n",
    "labels = labels.loc[data.index]\n",
    "\n",
    "# correct for the modis classifications\n",
    "modis_classifications = modis_classifications[data.index]"
   ]
  },
  {
   "cell_type": "markdown",
   "metadata": {},
   "source": [
    "## Print CALIOP classification statistics"
   ]
  },
  {
   "cell_type": "code",
   "execution_count": 8,
   "metadata": {},
   "outputs": [
    {
     "name": "stdout",
     "output_type": "stream",
     "text": [
      "Clear profiles 2723023 0.3374675548073415\n",
      "Water profiles 663978 0.08228760172274306\n",
      "Ice profiles 4681991 0.5802448434699155\n"
     ]
    }
   ],
   "source": [
    "# print the number of datapoints with each class and the percentage from the total\n",
    "total_datapoints = len(labels)\n",
    "print(\"Clear profiles\", len(labels[labels == 0]), len(labels[labels == 0]) / total_datapoints)\n",
    "print(\"Water profiles\", len(labels[labels == 1]), len(labels[labels == 1]) / total_datapoints)\n",
    "print(\"Ice profiles\", len(labels[labels == 2]), len(labels[labels == 2]) / total_datapoints)\n",
    "\n"
   ]
  },
  {
   "cell_type": "markdown",
   "metadata": {},
   "source": [
    "## Predict"
   ]
  },
  {
   "cell_type": "code",
   "execution_count": 9,
   "metadata": {},
   "outputs": [
    {
     "name": "stderr",
     "output_type": "stream",
     "text": [
      "/Users/alexandrudobra/anaconda3/envs/MPhys/lib/python3.11/site-packages/sklearn/base.py:432: UserWarning: X has feature names, but RandomForestClassifier was fitted without feature names\n",
      "  warnings.warn(\n",
      "/Users/alexandrudobra/anaconda3/envs/MPhys/lib/python3.11/site-packages/sklearn/utils/validation.py:767: FutureWarning: is_sparse is deprecated and will be removed in a future version. Check `isinstance(dtype, pd.SparseDtype)` instead.\n",
      "  if not hasattr(array, \"sparse\") and array.dtypes.apply(is_sparse).any():\n",
      "/Users/alexandrudobra/anaconda3/envs/MPhys/lib/python3.11/site-packages/sklearn/utils/validation.py:605: FutureWarning: is_sparse is deprecated and will be removed in a future version. Check `isinstance(dtype, pd.SparseDtype)` instead.\n",
      "  if is_sparse(pd_dtype):\n",
      "/Users/alexandrudobra/anaconda3/envs/MPhys/lib/python3.11/site-packages/sklearn/utils/validation.py:614: FutureWarning: is_sparse is deprecated and will be removed in a future version. Check `isinstance(dtype, pd.SparseDtype)` instead.\n",
      "  if is_sparse(pd_dtype) or not is_extension_array_dtype(pd_dtype):\n",
      "[Parallel(n_jobs=12)]: Using backend ThreadingBackend with 12 concurrent workers.\n",
      "[Parallel(n_jobs=12)]: Done  26 tasks      | elapsed:    3.6s\n",
      "[Parallel(n_jobs=12)]: Done 176 tasks      | elapsed:   17.3s\n",
      "[Parallel(n_jobs=12)]: Done 426 tasks      | elapsed:   39.6s\n",
      "[Parallel(n_jobs=12)]: Done 500 out of 500 | elapsed:   45.9s finished\n"
     ]
    }
   ],
   "source": [
    "predicted_phases = RF.predict(data)"
   ]
  },
  {
   "cell_type": "markdown",
   "metadata": {},
   "source": [
    "## Plot"
   ]
  },
  {
   "cell_type": "code",
   "execution_count": 10,
   "metadata": {},
   "outputs": [
    {
     "data": {
      "image/png": "[encoded data removed]",
      "text/plain": [
       "<Figure size 600x600 with 1 Axes>"
      ]
     },
     "metadata": {},
     "output_type": "display_data"
    },
    {
     "name": "stdout",
     "output_type": "stream",
     "text": [
      "Accuracy: 77.01%\n",
      "Accuracy: 51.88%\n"
     ]
    },
    {
     "data": {
      "image/png": "[encoded data removed]",
      "text/plain": [
       "<Figure size 600x600 with 1 Axes>"
      ]
     },
     "metadata": {},
     "output_type": "display_data"
    }
   ],
   "source": [
    "import matplotlib.pyplot as plt\n",
    "import seaborn as sns\n",
    "import numpy as np\n",
    "\n",
    "def test_train_split_day_batches(data, test_size=0.2, random_seed=26):\n",
    "    cycle_day = 20\n",
    "    testing_days = int(test_size * cycle_day)\n",
    "\n",
    "    if testing_days == 0:\n",
    "        testing_days = 1\n",
    "\n",
    "    datetimes = pd.to_datetime(data[\"cFileID\"].apply(lambda x: x[0:10]), format=\"%Y-%m-%d\")\n",
    "\n",
    "    # get the earliest date in the dataset\n",
    "    earliest_date = datetimes.min()\n",
    "    days_since_earliest_date = (datetimes - earliest_date).dt.days\n",
    "\n",
    "    # get the unique days list and shuffle them\n",
    "    unique_days = days_since_earliest_date.unique()\n",
    "    # np.random.seed(random_seed)\n",
    "    # np.random.shuffle(unique_days)\n",
    "\n",
    "    test_data = data[days_since_earliest_date.isin(unique_days[0::cycle_day])]\n",
    "    for testing_day in range(1, testing_days):\n",
    "        test_data = pd.concat([test_data, data[days_since_earliest_date.isin(unique_days[testing_day::cycle_day])]], axis=0)\n",
    "\n",
    "    train_data = data[~data.index.isin(test_data.index)]\n",
    "\n",
    "    return train_data, test_data\n",
    "\n",
    "def easy_confusion(model_labels, caliop_labels, title=\"Model vs CALIOP\", save=False, save_path=None):\n",
    "    confusion_table = pd.crosstab(caliop_labels, model_labels, rownames=[\"Caliop\"], colnames=[\"Model\"], normalize=\"index\")\n",
    "\n",
    "    # get accuracy score\n",
    "    accuracy = np.trace(confusion_table) / np.sum(confusion_table.values)\n",
    "\n",
    "    confusion_table.columns = [\"Clear\", \"Water\", \"Ice\"]\n",
    "    confusion_table.index = [\"Clear\", \"Water\", \"Ice\"]\n",
    "\n",
    "    plt.rcParams['text.usetex'] = True\n",
    "    plt.rcParams['font.serif'] = 'Computer Modern Roman'\n",
    "    fig, ax = plt.subplots(figsize=(6, 6))\n",
    "\n",
    "    # Plot correlation matrix\n",
    "    sns.heatmap(confusion_table.T, cmap=\"Blues\", annot=True, fmt=\".2f\", linewidths=.5, ax=ax, cbar=False, vmin=0, vmax=1, annot_kws={\"size\": 14})\n",
    "\n",
    "    # Set plot labels\n",
    "    ax.set_title(\"Confusion Matrix\")\n",
    "    ax.set_yticklabels(ax.get_yticklabels(), rotation=90)\n",
    "    ax.xaxis.tick_top()  # Place x-axis labels on top\n",
    "    ax.set_title(title, fontsize=14)\n",
    "    ax.set_xlabel(\"CALIOP\", fontsize=12)\n",
    "    ax.xaxis.set_label_position('top')\n",
    "    ax.set_ylabel(\"RF Model\", fontsize=12)\n",
    "\n",
    "    # Show the plot\n",
    "    plt.show()\n",
    "\n",
    "    if save:\n",
    "        fig.savefig(save_path, bbox_inches=\"tight\", dpi=300)\n",
    "    \n",
    "    return confusion_table, accuracy*100\n",
    "\n",
    "plt.rcParams['text.usetex'] = True\n",
    "plt.rcParams['font.size'] = 11\n",
    "plt.rcParams['font.family'] = 'serif'\n",
    "plt.rcParams['font.serif'] = 'Computer Modern'\n",
    "\n",
    "def plot_confusion_matrix_modis_caliop(caliop_labels, modis_labels, title=\"MODIS vs CALIOP\", plot_ylabel=True, save=False, save_path=None):\n",
    "    confusion_table = pd.crosstab(caliop_labels, modis_labels, rownames=[\"Caliop\"], colnames=[\"Model\"])\n",
    "\n",
    "    # get accuracy score\n",
    "    accuracy = np.trace(confusion_table) / np.sum(confusion_table.values)\n",
    "\n",
    "    confusion_table = pd.crosstab(caliop_labels, modis_labels, rownames=[\"Caliop\"], colnames=[\"Model\"], normalize=\"index\")\n",
    "    if plot_ylabel:\n",
    "        confusion_table.columns = [\"Clear\", \"Water\", \"Ice\", \"Undet\"]\n",
    "    else:\n",
    "        confusion_table.columns = [\"\", \"\", \"\", \"\"]\n",
    "    confusion_table.index = [\"Clear\", \"Water\", \"Ice\"]\n",
    "\n",
    "    fig, ax = plt.subplots(figsize=(6, 6))\n",
    "\n",
    "    # Plot correlation matrix\n",
    "    h = sns.heatmap(confusion_table.T, cmap=\"Blues\", annot=True, fmt=\".2f\", ax=ax, cbar=False, vmin=0, vmax=1, annot_kws={\"fontsize\":11})\n",
    "\n",
    "    # Set plot labels\n",
    "    ax.set_title(\"Confusion Matrix\")\n",
    "    ax.set_yticklabels(ax.get_yticklabels(), rotation=0)\n",
    "    ax.xaxis.tick_top()  # Place x-axis labels on top\n",
    "    ax.set_title(title, fontsize=13)\n",
    "    ax.set_xlabel(\"CALIOP\")\n",
    "    ax.xaxis.set_label_position('top')\n",
    "    ax.set_ylabel(\"MODIS\")\n",
    "\n",
    "    # remove x and y label ticks, but not the labels themselves\n",
    "    ax.tick_params(axis=u'both', which=u'both',length=0)\n",
    "\n",
    "    if not plot_ylabel:\n",
    "        ax.set_ylabel(\"\")\n",
    "\n",
    "    if save:\n",
    "        h.figure.savefig(save_path, bbox_inches=\"tight\", dpi=300)\n",
    "    \n",
    "    return confusion_table, accuracy*100\n",
    "\n",
    "\n",
    "confusion_table, accuracy = easy_confusion(predicted_phases, labels, title=f\"RF {model_type} vs CALIOP\", save=True, save_path=f\"./JASMIN_tests/Antarctica/RF_{model_type}_confusion.png\")\n",
    "print(f\"Accuracy: {accuracy:.4g}%\")\n",
    "\n",
    "confusion_table, accuracy = plot_confusion_matrix_modis_caliop(labels, modis_classifications, title=f\"MODIS vs CALIOP\", save=False, save_path=f\"./JASMIN_tests/Antarctica/MODIS_confusion.png\")\n",
    "print(f\"Accuracy: {accuracy:.4g}%\")\n"
   ]
  },
  {
   "cell_type": "code",
   "execution_count": null,
   "metadata": {},
   "outputs": [],
   "source": []
  }
 ],
 "metadata": {
  "kernelspec": {
   "display_name": "MPhys",
   "language": "python",
   "name": "python3"
  },
  "language_info": {
   "codemirror_mode": {
    "name": "ipython",
    "version": 3
   },
   "file_extension": ".py",
   "mimetype": "text/x-python",
   "name": "python",
   "nbconvert_exporter": "python",
   "pygments_lexer": "ipython3",
   "version": "3.11.6"
  }
 },
 "nbformat": 4,
 "nbformat_minor": 2
}
