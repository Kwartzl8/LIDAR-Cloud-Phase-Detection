{
 "cells": [
  {
   "cell_type": "markdown",
   "metadata": {},
   "source": [
    "# Read MYD35_L2, MYD06_L2 and LID_L2_05km_MLay products and identify the relevant properties"
   ]
  },
  {
   "cell_type": "code",
   "execution_count": 1,
   "metadata": {},
   "outputs": [],
   "source": [
    "from pyhdf.HDF import *\n",
    "from pyhdf.SD import *\n",
    "from pyhdf.V import *\n",
    "from caliop import Caliop_hdf_reader\n",
    "\n",
    "CALIOP_pre_path = \"./test_data/CALIOP/2017/01/\"\n",
    "MODIS_pre_path = \"./test_data/MODIS/2017/01/\"\n",
    "\n",
    "\n"
   ]
  },
  {
   "cell_type": "markdown",
   "metadata": {},
   "source": [
    "# Use collocation database to load CALIOP and MODIS products"
   ]
  },
  {
   "cell_type": "code",
   "execution_count": null,
   "metadata": {},
   "outputs": [],
   "source": []
  }
 ],
 "metadata": {
  "kernelspec": {
   "display_name": "MPhys",
   "language": "python",
   "name": "python3"
  },
  "language_info": {
   "codemirror_mode": {
    "name": "ipython",
    "version": 3
   },
   "file_extension": ".py",
   "mimetype": "text/x-python",
   "name": "python",
   "nbconvert_exporter": "python",
   "pygments_lexer": "ipython3",
   "version": "3.11.6"
  }
 },
 "nbformat": 4,
 "nbformat_minor": 2
}
